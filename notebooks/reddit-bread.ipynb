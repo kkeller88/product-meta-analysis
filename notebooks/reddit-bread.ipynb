{
 "cells": [
  {
   "cell_type": "code",
   "execution_count": 1,
   "metadata": {
    "collapsed": true
   },
   "outputs": [],
   "source": [
    "import pandas as pd\n",
    "import matplotlib.pyplot as plt\n",
    "\n",
    "DEFAULT_COLORS = ['#0472c2', '#1ec5d6', '#fcd251', '#c36c6c', '#eac1c1', '#c5c5c5']\n",
    "\n",
    "font = {'family' : 'Verdana',\n",
    "        'weight' : 'normal',\n",
    "        'size'   : 18}\n",
    "plt.rc('font', **font)\n"
   ]
  },
  {
   "cell_type": "code",
   "execution_count": 2,
   "metadata": {
    "collapsed": false
   },
   "outputs": [
    {
     "data": {
      "text/html": [
       "<div>\n",
       "<style scoped>\n",
       "    .dataframe tbody tr th:only-of-type {\n",
       "        vertical-align: middle;\n",
       "    }\n",
       "\n",
       "    .dataframe tbody tr th {\n",
       "        vertical-align: top;\n",
       "    }\n",
       "\n",
       "    .dataframe thead th {\n",
       "        text-align: right;\n",
       "    }\n",
       "</style>\n",
       "<table border=\"1\" class=\"dataframe\">\n",
       "  <thead>\n",
       "    <tr style=\"text-align: right;\">\n",
       "      <th></th>\n",
       "      <th>Site</th>\n",
       "      <th>Thread</th>\n",
       "      <th>Brand</th>\n",
       "      <th>Votes</th>\n",
       "    </tr>\n",
       "  </thead>\n",
       "  <tbody>\n",
       "    <tr>\n",
       "      <th>0</th>\n",
       "      <td>reddit</td>\n",
       "      <td>https://www.reddit.com/r/glutenfree/comments/6...</td>\n",
       "      <td>Canyon Bakehouse</td>\n",
       "      <td>38</td>\n",
       "    </tr>\n",
       "    <tr>\n",
       "      <th>1</th>\n",
       "      <td>reddit</td>\n",
       "      <td>https://www.reddit.com/r/glutenfree/comments/6...</td>\n",
       "      <td>Berad SRSLY</td>\n",
       "      <td>11</td>\n",
       "    </tr>\n",
       "    <tr>\n",
       "      <th>2</th>\n",
       "      <td>reddit</td>\n",
       "      <td>https://www.reddit.com/r/glutenfree/comments/6...</td>\n",
       "      <td>Franz</td>\n",
       "      <td>7</td>\n",
       "    </tr>\n",
       "    <tr>\n",
       "      <th>3</th>\n",
       "      <td>reddit</td>\n",
       "      <td>https://www.reddit.com/r/glutenfree/comments/6...</td>\n",
       "      <td>Schar</td>\n",
       "      <td>20</td>\n",
       "    </tr>\n",
       "    <tr>\n",
       "      <th>4</th>\n",
       "      <td>reddit</td>\n",
       "      <td>https://www.reddit.com/r/glutenfree/comments/6...</td>\n",
       "      <td>Trader Joe's</td>\n",
       "      <td>6</td>\n",
       "    </tr>\n",
       "  </tbody>\n",
       "</table>\n",
       "</div>"
      ],
      "text/plain": [
       "     Site                                             Thread  \\\n",
       "0  reddit  https://www.reddit.com/r/glutenfree/comments/6...   \n",
       "1  reddit  https://www.reddit.com/r/glutenfree/comments/6...   \n",
       "2  reddit  https://www.reddit.com/r/glutenfree/comments/6...   \n",
       "3  reddit  https://www.reddit.com/r/glutenfree/comments/6...   \n",
       "4  reddit  https://www.reddit.com/r/glutenfree/comments/6...   \n",
       "\n",
       "              Brand  Votes  \n",
       "0  Canyon Bakehouse     38  \n",
       "1       Berad SRSLY     11  \n",
       "2             Franz      7  \n",
       "3             Schar     20  \n",
       "4      Trader Joe's      6  "
      ]
     },
     "execution_count": 2,
     "metadata": {},
     "output_type": "execute_result"
    }
   ],
   "source": [
    "df = pd.read_csv('../data/gluten-free-bread.csv')\n",
    "df.head(5)"
   ]
  },
  {
   "cell_type": "markdown",
   "metadata": {},
   "source": [
    "### Summary stats"
   ]
  },
  {
   "cell_type": "code",
   "execution_count": 3,
   "metadata": {
    "collapsed": false
   },
   "outputs": [
    {
     "name": "stdout",
     "output_type": "stream",
     "text": [
      "Number of threads: 7\n",
      "Number of comments: 30\n",
      "Number of upvotes: 415\n",
      "Number of threads: 10\n"
     ]
    }
   ],
   "source": [
    "def print_summary_stats(df): \n",
    "    threads = df['Thread'].nunique()\n",
    "    upvotes = df['Votes'].sum()\n",
    "    comments = df['Votes'].count()\n",
    "    brands = df['Brand'].nunique()\n",
    "\n",
    "    print(f\"Number of threads: {threads}\")\n",
    "    print(f\"Number of comments: {comments}\")\n",
    "    print(f\"Number of upvotes: {upvotes}\")\n",
    "    print(f\"Number of threads: {brands}\")\n",
    "    \n",
    "print_summary_stats(df)"
   ]
  },
  {
   "cell_type": "markdown",
   "metadata": {},
   "source": [
    "### Vote summary"
   ]
  },
  {
   "cell_type": "code",
   "execution_count": 4,
   "metadata": {
    "collapsed": false
   },
   "outputs": [
    {
     "data": {
      "text/html": [
       "<div>\n",
       "<style scoped>\n",
       "    .dataframe tbody tr th:only-of-type {\n",
       "        vertical-align: middle;\n",
       "    }\n",
       "\n",
       "    .dataframe tbody tr th {\n",
       "        vertical-align: top;\n",
       "    }\n",
       "\n",
       "    .dataframe thead th {\n",
       "        text-align: right;\n",
       "    }\n",
       "</style>\n",
       "<table border=\"1\" class=\"dataframe\">\n",
       "  <thead>\n",
       "    <tr style=\"text-align: right;\">\n",
       "      <th></th>\n",
       "      <th>Brand</th>\n",
       "      <th>sum</th>\n",
       "      <th>count</th>\n",
       "      <th>mean</th>\n",
       "    </tr>\n",
       "  </thead>\n",
       "  <tbody>\n",
       "    <tr>\n",
       "      <th>0</th>\n",
       "      <td>Canyon Bakehouse</td>\n",
       "      <td>203</td>\n",
       "      <td>8</td>\n",
       "      <td>25.375000</td>\n",
       "    </tr>\n",
       "    <tr>\n",
       "      <th>1</th>\n",
       "      <td>Schar</td>\n",
       "      <td>86</td>\n",
       "      <td>7</td>\n",
       "      <td>12.285714</td>\n",
       "    </tr>\n",
       "    <tr>\n",
       "      <th>2</th>\n",
       "      <td>Trader Joe's</td>\n",
       "      <td>52</td>\n",
       "      <td>5</td>\n",
       "      <td>10.400000</td>\n",
       "    </tr>\n",
       "    <tr>\n",
       "      <th>3</th>\n",
       "      <td>Franz</td>\n",
       "      <td>21</td>\n",
       "      <td>3</td>\n",
       "      <td>7.000000</td>\n",
       "    </tr>\n",
       "    <tr>\n",
       "      <th>4</th>\n",
       "      <td>Little Northern Bakehouse</td>\n",
       "      <td>12</td>\n",
       "      <td>2</td>\n",
       "      <td>6.000000</td>\n",
       "    </tr>\n",
       "    <tr>\n",
       "      <th>5</th>\n",
       "      <td>Berad SRSLY</td>\n",
       "      <td>11</td>\n",
       "      <td>1</td>\n",
       "      <td>11.000000</td>\n",
       "    </tr>\n",
       "    <tr>\n",
       "      <th>6</th>\n",
       "      <td>Rudi's</td>\n",
       "      <td>8</td>\n",
       "      <td>1</td>\n",
       "      <td>8.000000</td>\n",
       "    </tr>\n",
       "    <tr>\n",
       "      <th>7</th>\n",
       "      <td>Udi's</td>\n",
       "      <td>8</td>\n",
       "      <td>1</td>\n",
       "      <td>8.000000</td>\n",
       "    </tr>\n",
       "    <tr>\n",
       "      <th>8</th>\n",
       "      <td>Aldi</td>\n",
       "      <td>7</td>\n",
       "      <td>1</td>\n",
       "      <td>7.000000</td>\n",
       "    </tr>\n",
       "    <tr>\n",
       "      <th>9</th>\n",
       "      <td>Three Bakers</td>\n",
       "      <td>7</td>\n",
       "      <td>1</td>\n",
       "      <td>7.000000</td>\n",
       "    </tr>\n",
       "  </tbody>\n",
       "</table>\n",
       "</div>"
      ],
      "text/plain": [
       "                       Brand  sum  count       mean\n",
       "0           Canyon Bakehouse  203      8  25.375000\n",
       "1                      Schar   86      7  12.285714\n",
       "2               Trader Joe's   52      5  10.400000\n",
       "3                      Franz   21      3   7.000000\n",
       "4  Little Northern Bakehouse   12      2   6.000000\n",
       "5                Berad SRSLY   11      1  11.000000\n",
       "6                     Rudi's    8      1   8.000000\n",
       "7                      Udi's    8      1   8.000000\n",
       "8                       Aldi    7      1   7.000000\n",
       "9               Three Bakers    7      1   7.000000"
      ]
     },
     "execution_count": 4,
     "metadata": {},
     "output_type": "execute_result"
    }
   ],
   "source": [
    "def get_vote_summary(df, group_ = 'Brand', agg_ = ['sum', 'count', 'mean']): \n",
    "    group_ = 'Brand'\n",
    "    vote_summary = df \\\n",
    "        .groupby(group_) \\\n",
    "        .agg({'Votes': agg_}) \\\n",
    "        .sort_values(('Votes','sum'), ascending=False) \\\n",
    "        .reset_index()\n",
    "    vote_summary.columns = [group_] + agg_ \n",
    "\n",
    "    return vote_summary\n",
    "\n",
    "votes = get_vote_summary(df)\n",
    "votes"
   ]
  },
  {
   "cell_type": "markdown",
   "metadata": {},
   "source": [
    "### Total votes"
   ]
  },
  {
   "cell_type": "code",
   "execution_count": 5,
   "metadata": {
    "collapsed": false
   },
   "outputs": [
    {
     "data": {
      "text/html": [
       "<div>\n",
       "<style scoped>\n",
       "    .dataframe tbody tr th:only-of-type {\n",
       "        vertical-align: middle;\n",
       "    }\n",
       "\n",
       "    .dataframe tbody tr th {\n",
       "        vertical-align: top;\n",
       "    }\n",
       "\n",
       "    .dataframe thead th {\n",
       "        text-align: right;\n",
       "    }\n",
       "</style>\n",
       "<table border=\"1\" class=\"dataframe\">\n",
       "  <thead>\n",
       "    <tr style=\"text-align: right;\">\n",
       "      <th></th>\n",
       "      <th>Brand</th>\n",
       "      <th>Total Votes</th>\n",
       "      <th>Total Comments</th>\n",
       "      <th>Average Votes per Comment</th>\n",
       "    </tr>\n",
       "  </thead>\n",
       "  <tbody>\n",
       "    <tr>\n",
       "      <th>0</th>\n",
       "      <td>Canyon Bakehouse</td>\n",
       "      <td>203</td>\n",
       "      <td>8</td>\n",
       "      <td>25.4</td>\n",
       "    </tr>\n",
       "    <tr>\n",
       "      <th>1</th>\n",
       "      <td>Schar</td>\n",
       "      <td>86</td>\n",
       "      <td>7</td>\n",
       "      <td>12.3</td>\n",
       "    </tr>\n",
       "    <tr>\n",
       "      <th>2</th>\n",
       "      <td>Trader Joe's</td>\n",
       "      <td>52</td>\n",
       "      <td>5</td>\n",
       "      <td>10.4</td>\n",
       "    </tr>\n",
       "    <tr>\n",
       "      <th>3</th>\n",
       "      <td>Franz</td>\n",
       "      <td>21</td>\n",
       "      <td>3</td>\n",
       "      <td>7.0</td>\n",
       "    </tr>\n",
       "    <tr>\n",
       "      <th>4</th>\n",
       "      <td>Little Northern Bakehouse</td>\n",
       "      <td>12</td>\n",
       "      <td>2</td>\n",
       "      <td>6.0</td>\n",
       "    </tr>\n",
       "    <tr>\n",
       "      <th>5</th>\n",
       "      <td>Berad SRSLY</td>\n",
       "      <td>11</td>\n",
       "      <td>1</td>\n",
       "      <td>11.0</td>\n",
       "    </tr>\n",
       "    <tr>\n",
       "      <th>6</th>\n",
       "      <td>Rudi's</td>\n",
       "      <td>8</td>\n",
       "      <td>1</td>\n",
       "      <td>8.0</td>\n",
       "    </tr>\n",
       "    <tr>\n",
       "      <th>7</th>\n",
       "      <td>Udi's</td>\n",
       "      <td>8</td>\n",
       "      <td>1</td>\n",
       "      <td>8.0</td>\n",
       "    </tr>\n",
       "    <tr>\n",
       "      <th>8</th>\n",
       "      <td>Aldi</td>\n",
       "      <td>7</td>\n",
       "      <td>1</td>\n",
       "      <td>7.0</td>\n",
       "    </tr>\n",
       "    <tr>\n",
       "      <th>9</th>\n",
       "      <td>Three Bakers</td>\n",
       "      <td>7</td>\n",
       "      <td>1</td>\n",
       "      <td>7.0</td>\n",
       "    </tr>\n",
       "  </tbody>\n",
       "</table>\n",
       "</div>"
      ],
      "text/plain": [
       "                       Brand  Total Votes  Total Comments  \\\n",
       "0           Canyon Bakehouse          203               8   \n",
       "1                      Schar           86               7   \n",
       "2               Trader Joe's           52               5   \n",
       "3                      Franz           21               3   \n",
       "4  Little Northern Bakehouse           12               2   \n",
       "5                Berad SRSLY           11               1   \n",
       "6                     Rudi's            8               1   \n",
       "7                      Udi's            8               1   \n",
       "8                       Aldi            7               1   \n",
       "9               Three Bakers            7               1   \n",
       "\n",
       "   Average Votes per Comment  \n",
       "0                       25.4  \n",
       "1                       12.3  \n",
       "2                       10.4  \n",
       "3                        7.0  \n",
       "4                        6.0  \n",
       "5                       11.0  \n",
       "6                        8.0  \n",
       "7                        8.0  \n",
       "8                        7.0  \n",
       "9                        7.0  "
      ]
     },
     "execution_count": 5,
     "metadata": {},
     "output_type": "execute_result"
    }
   ],
   "source": [
    "votes_clean = votes.copy() \\\n",
    "    .rename(columns={\n",
    "            \"sum\": \"Total Votes\", \n",
    "            \"count\":\"Total Comments\",\n",
    "            \"mean\":\"Average Votes per Comment\"\n",
    "        }) \\\n",
    "    .round(1)\n",
    "    \n",
    "votes_clean"
   ]
  },
  {
   "cell_type": "markdown",
   "metadata": {},
   "source": [
    "### Plots"
   ]
  },
  {
   "cell_type": "code",
   "execution_count": 6,
   "metadata": {
    "collapsed": false
   },
   "outputs": [
    {
     "data": {
      "image/png": "[encoded data removed]",
      "text/plain": [
       "<Figure size 432x288 with 1 Axes>"
      ]
     },
     "metadata": {},
     "output_type": "display_data"
    }
   ],
   "source": [
    "def add_chart_title(column): \n",
    "    if column == 'sum':\n",
    "        return plt.title('Total number of votes', pad=25)\n",
    "    elif column == 'count':\n",
    "        return plt.title('Total number of comments', pad=25)\n",
    "\n",
    "def bin_long_tail(df, count_threshold, column): \n",
    "    df_ = df.copy()\n",
    "    above_threshold = df_[df_['count'] >= count_threshold]\n",
    "    below_threshold = df_[df_['count'] < count_threshold]\n",
    "    binned = pd.concat([\n",
    "            above_threshold[['Brand', column]],\n",
    "            pd.DataFrame(\n",
    "                [['Other', int(below_threshold[column].sum())]],\n",
    "                columns=['Brand', column]\n",
    "                )\n",
    "        ])\n",
    "    return binned\n",
    "\n",
    "def create_pie_chart(df, count_threshold = 3, column='sum'):\n",
    "    votes_binned = bin_long_tail(df, count_threshold, column)\n",
    "    n = len(votes_binned)\n",
    "\n",
    "    fig, ax = plt.subplots()\n",
    "    ax.pie(\n",
    "        votes_binned[column], \n",
    "        labels=votes_binned['Brand'], \n",
    "        colors=DEFAULT_COLORS[0:n], \n",
    "        startangle=90,\n",
    "        labeldistance=1.2,\n",
    "        pctdistance=0.7,\n",
    "        wedgeprops = {\"edgecolor\":\"k\",'linewidth': 2, 'linestyle': 'solid', 'antialiased': True}\n",
    "        )\n",
    "    ax.axis('equal')  \n",
    "    add_chart_title(column)\n",
    "        \n",
    "    plt.show()\n",
    "\n",
    "create_pie_chart(votes)"
   ]
  },
  {
   "cell_type": "code",
   "execution_count": 7,
   "metadata": {
    "collapsed": false
   },
   "outputs": [
    {
     "data": {
      "image/png": "[encoded data removed]",
      "text/plain": [
       "<Figure size 432x288 with 1 Axes>"
      ]
     },
     "metadata": {},
     "output_type": "display_data"
    }
   ],
   "source": [
    "create_pie_chart(votes, column='count')"
   ]
  },
  {
   "cell_type": "code",
   "execution_count": 8,
   "metadata": {
    "collapsed": false
   },
   "outputs": [
    {
     "data": {
      "image/png": "[encoded data removed]",
      "text/plain": [
       "<Figure size 432x288 with 1 Axes>"
      ]
     },
     "metadata": {
      "needs_background": "light"
     },
     "output_type": "display_data"
    }
   ],
   "source": [
    "def create_bar_chart(df, count_threshold = 3, column='sum'):\n",
    "    votes_binned = bin_long_tail(df, count_threshold, column)\n",
    "    n = len(votes_binned)\n",
    "\n",
    "    fig, ax = plt.subplots()\n",
    "    ax.barh(\n",
    "        votes_binned['Brand'],\n",
    "        votes_binned[column],  \n",
    "        color=DEFAULT_COLORS[0:n], \n",
    "        )\n",
    "    ax.invert_yaxis()\n",
    "    add_chart_title(column)\n",
    "\n",
    "        \n",
    "    plt.show()\n",
    "\n",
    "create_bar_chart(votes)"
   ]
  },
  {
   "cell_type": "code",
   "execution_count": null,
   "metadata": {
    "collapsed": true
   },
   "outputs": [],
   "source": []
  },
  {
   "cell_type": "code",
   "execution_count": null,
   "metadata": {
    "collapsed": true
   },
   "outputs": [],
   "source": []
  },
  {
   "cell_type": "code",
   "execution_count": null,
   "metadata": {
    "collapsed": true
   },
   "outputs": [],
   "source": []
  },
  {
   "cell_type": "code",
   "execution_count": null,
   "metadata": {
    "collapsed": true
   },
   "outputs": [],
   "source": []
  },
  {
   "cell_type": "code",
   "execution_count": null,
   "metadata": {
    "collapsed": true
   },
   "outputs": [],
   "source": []
  },
  {
   "cell_type": "code",
   "execution_count": null,
   "metadata": {
    "collapsed": true
   },
   "outputs": [],
   "source": []
  },
  {
   "cell_type": "code",
   "execution_count": null,
   "metadata": {
    "collapsed": true
   },
   "outputs": [],
   "source": []
  },
  {
   "cell_type": "code",
   "execution_count": null,
   "metadata": {
    "collapsed": true
   },
   "outputs": [],
   "source": []
  },
  {
   "cell_type": "code",
   "execution_count": null,
   "metadata": {
    "collapsed": true
   },
   "outputs": [],
   "source": []
  }
 ],
 "metadata": {
  "anaconda-cloud": {},
  "kernelspec": {
   "display_name": "Python [conda env:product-meta-analysis]",
   "language": "python",
   "name": "conda-env-product-meta-analysis-py"
  },
  "language_info": {
   "codemirror_mode": {
    "name": "ipython",
    "version": 3
   },
   "file_extension": ".py",
   "mimetype": "text/x-python",
   "name": "python",
   "nbconvert_exporter": "python",
   "pygments_lexer": "ipython3",
   "version": "3.9.5"
  }
 },
 "nbformat": 4,
 "nbformat_minor": 4
}
