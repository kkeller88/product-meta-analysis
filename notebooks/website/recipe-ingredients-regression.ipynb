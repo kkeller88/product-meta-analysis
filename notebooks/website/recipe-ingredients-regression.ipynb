{
 "cells": [
  {
   "cell_type": "code",
   "execution_count": 1,
   "id": "7809f808",
   "metadata": {},
   "outputs": [],
   "source": [
    "config_type = 'website_content'\n",
    "config_name = 'mac_and_cheese_long'\n"
   ]
  },
  {
   "cell_type": "code",
   "execution_count": 2,
   "id": "4edaa0e9",
   "metadata": {},
   "outputs": [],
   "source": [
    "import json\n",
    "\n",
    "import pandas as pd\n",
    "import statsmodels.api as sm\n",
    "\n",
    "from product_meta_analysis.analyze.regression import one_hot_encode_recipes\n",
    "from product_meta_analysis.database.database import Database\n",
    "from product_meta_analysis.utils import read_config\n"
   ]
  },
  {
   "cell_type": "code",
   "execution_count": 3,
   "id": "b0d84f73",
   "metadata": {},
   "outputs": [],
   "source": [
    "config = read_config(config_type, config_name)\n",
    "ingredients = config.get('match').get('ingredients')\n",
    "categories_to_combine = config.get('match').get('combine')"
   ]
  },
  {
   "cell_type": "code",
   "execution_count": 4,
   "id": "314e74f7",
   "metadata": {},
   "outputs": [
    {
     "data": {
      "text/html": [
       "<div>\n",
       "<style scoped>\n",
       "    .dataframe tbody tr th:only-of-type {\n",
       "        vertical-align: middle;\n",
       "    }\n",
       "\n",
       "    .dataframe tbody tr th {\n",
       "        vertical-align: top;\n",
       "    }\n",
       "\n",
       "    .dataframe thead th {\n",
       "        text-align: right;\n",
       "    }\n",
       "</style>\n",
       "<table border=\"1\" class=\"dataframe\">\n",
       "  <thead>\n",
       "    <tr style=\"text-align: right;\">\n",
       "      <th></th>\n",
       "      <th>urd_id</th>\n",
       "      <th>content</th>\n",
       "    </tr>\n",
       "  </thead>\n",
       "  <tbody>\n",
       "    <tr>\n",
       "      <th>0</th>\n",
       "      <td>f4c88b0bf29044fc38ba48198cd7f1efde4e4ac768c001...</td>\n",
       "      <td>{'ingredients': [{'name': None, 'amount': None...</td>\n",
       "    </tr>\n",
       "    <tr>\n",
       "      <th>1</th>\n",
       "      <td>427c694669ec9066babdf14186f394d0cbbe892f94f007...</td>\n",
       "      <td>{'ingredients': [{'name': None, 'amount': None...</td>\n",
       "    </tr>\n",
       "    <tr>\n",
       "      <th>2</th>\n",
       "      <td>0f8746bfbca22f1fc21b8a34a9675ced476d77124ff1ed...</td>\n",
       "      <td>{'ingredients': [{'name': None, 'amount': None...</td>\n",
       "    </tr>\n",
       "    <tr>\n",
       "      <th>3</th>\n",
       "      <td>70a19651b5c117775ae4fa066a1ff85d20112b8eb5b46d...</td>\n",
       "      <td>{'ingredients': [{'name': None, 'amount': None...</td>\n",
       "    </tr>\n",
       "    <tr>\n",
       "      <th>4</th>\n",
       "      <td>f4d01f1b9c6ec3b3c7df86af0f4051d7c8164f0f631152...</td>\n",
       "      <td>{'ingredients': [{'name': None, 'amount': None...</td>\n",
       "    </tr>\n",
       "  </tbody>\n",
       "</table>\n",
       "</div>"
      ],
      "text/plain": [
       "                                              urd_id  \\\n",
       "0  f4c88b0bf29044fc38ba48198cd7f1efde4e4ac768c001...   \n",
       "1  427c694669ec9066babdf14186f394d0cbbe892f94f007...   \n",
       "2  0f8746bfbca22f1fc21b8a34a9675ced476d77124ff1ed...   \n",
       "3  70a19651b5c117775ae4fa066a1ff85d20112b8eb5b46d...   \n",
       "4  f4d01f1b9c6ec3b3c7df86af0f4051d7c8164f0f631152...   \n",
       "\n",
       "                                             content  \n",
       "0  {'ingredients': [{'name': None, 'amount': None...  \n",
       "1  {'ingredients': [{'name': None, 'amount': None...  \n",
       "2  {'ingredients': [{'name': None, 'amount': None...  \n",
       "3  {'ingredients': [{'name': None, 'amount': None...  \n",
       "4  {'ingredients': [{'name': None, 'amount': None...  "
      ]
     },
     "execution_count": 4,
     "metadata": {},
     "output_type": "execute_result"
    }
   ],
   "source": [
    "db = Database()\n",
    "query = f\"\"\"         \n",
    "    select\n",
    "        url_id,\n",
    "        content\n",
    "    from website_content\n",
    "    where content_type = 'schema_recipe_card_ingredients'\n",
    "        and content is not null\n",
    "    \"\"\"\n",
    "data = pd.DataFrame(db.read(query), columns=['urd_id', 'content'])\n",
    "data['content'] = [json.loads(x) for x in data['content']]\n",
    "data.head(5)"
   ]
  },
  {
   "cell_type": "markdown",
   "id": "50dfee79",
   "metadata": {},
   "source": [
    "### Encode data"
   ]
  },
  {
   "cell_type": "code",
   "execution_count": 5,
   "id": "ea86f018",
   "metadata": {},
   "outputs": [],
   "source": [
    "def format_outcome(data): \n",
    "    data['outcome'] = [x.get('rating').get('rating') for x in data['content']]\n",
    "    data = data[(data['outcome'] != 'None') & (data['outcome'].notnull())]\n",
    "    data['outcome'] = data['outcome'].astype(float)\n",
    "    return data\n",
    "\n",
    "# TODO: Preforming a similar calculation in the general aggregate counts notebook; \n",
    "# maybe move this earlier on in process or just don't at all \n",
    "def combine_categories(data, categories_to_combine):\n",
    "    data['max'] = 1\n",
    "    for k, v in categories_to_combine.items(): \n",
    "        cols_to_drop = [x for x in v if x != k]\n",
    "        data[k] = data[v].sum(axis=1)\n",
    "        data[k] = data[[k, 'max']].min(axis=1)\n",
    "        data = data.drop(cols_to_drop, axis=1)\n",
    "    data = data.drop(['max'], axis=1)\n",
    "    return data\n",
    "   \n",
    "def remove_empty_columns(data):\n",
    "    not_empty = data.std() != 0\n",
    "    good_cols = list(not_empty[not_empty].keys())\n",
    "    return data[good_cols]\n"
   ]
  },
  {
   "cell_type": "code",
   "execution_count": 6,
   "id": "54c73570",
   "metadata": {},
   "outputs": [
    {
     "name": "stderr",
     "output_type": "stream",
     "text": [
      "/var/folders/43/zq3vpthj12d0lnb862f1n_840000gn/T/ipykernel_21635/255880152.py:4: SettingWithCopyWarning: \n",
      "A value is trying to be set on a copy of a slice from a DataFrame.\n",
      "Try using .loc[row_indexer,col_indexer] = value instead\n",
      "\n",
      "See the caveats in the documentation: https://pandas.pydata.org/pandas-docs/stable/user_guide/indexing.html#returning-a-view-versus-a-copy\n",
      "  data['outcome'] = data['outcome'].astype(float)\n"
     ]
    },
    {
     "data": {
      "text/plain": [
       "cheddar       73\n",
       "swiss          1\n",
       "gruyere        8\n",
       "fontina        4\n",
       "parmesan      14\n",
       "jack          17\n",
       "american       5\n",
       "mozzarella    13\n",
       "dtype: int64"
      ]
     },
     "execution_count": 6,
     "metadata": {},
     "output_type": "execute_result"
    }
   ],
   "source": [
    "data_ = format_outcome(data)\n",
    "outcome = data_['outcome']\n",
    "features = one_hot_encode_recipes(data_['content'].tolist(), ingredients)\n",
    "features = combine_categories(features, categories_to_combine)\n",
    "features = remove_empty_columns(features)\n",
    "\n",
    "features.sum()"
   ]
  },
  {
   "cell_type": "markdown",
   "id": "1c715cdf",
   "metadata": {},
   "source": [
    "### Build regression model"
   ]
  },
  {
   "cell_type": "code",
   "execution_count": 7,
   "id": "20645e54",
   "metadata": {},
   "outputs": [
    {
     "name": "stdout",
     "output_type": "stream",
     "text": [
      "                            OLS Regression Results                            \n",
      "==============================================================================\n",
      "Dep. Variable:                outcome   R-squared:                       0.011\n",
      "Model:                            OLS   Adj. R-squared:                 -0.099\n",
      "Method:                 Least Squares   F-statistic:                   0.09909\n",
      "Date:                Mon, 04 Oct 2021   Prob (F-statistic):              0.999\n",
      "Time:                        21:55:04   Log-Likelihood:                -289.42\n",
      "No. Observations:                  81   AIC:                             596.8\n",
      "Df Residuals:                      72   BIC:                             618.4\n",
      "Df Model:                           8                                         \n",
      "Covariance Type:            nonrobust                                         \n",
      "==============================================================================\n",
      "                 coef    std err          t      P>|t|      [0.025      0.975]\n",
      "------------------------------------------------------------------------------\n",
      "const          4.9903      3.501      1.425      0.158      -1.989      11.970\n",
      "x1             1.4553      3.608      0.403      0.688      -5.736       8.647\n",
      "x2            -1.5956      9.253     -0.172      0.864     -20.041      16.850\n",
      "x3            -1.0556      3.518     -0.300      0.765      -8.068       5.957\n",
      "x4            -0.0397      4.975     -0.008      0.994      -9.958       9.878\n",
      "x5            -1.0308      2.828     -0.364      0.717      -6.669       4.608\n",
      "x6            -1.4642      2.654     -0.552      0.583      -6.754       3.826\n",
      "x7            -0.8511      4.411     -0.193      0.848      -9.644       7.941\n",
      "x8            -0.3869      2.964     -0.131      0.897      -6.296       5.523\n",
      "==============================================================================\n",
      "Omnibus:                      173.563   Durbin-Watson:                   2.049\n",
      "Prob(Omnibus):                  0.000   Jarque-Bera (JB):            19377.285\n",
      "Skew:                           8.640   Prob(JB):                         0.00\n",
      "Kurtosis:                      76.776   Cond. No.                         12.8\n",
      "==============================================================================\n",
      "\n",
      "Notes:\n",
      "[1] Standard Errors assume that the covariance matrix of the errors is correctly specified.\n"
     ]
    }
   ],
   "source": [
    "f = sm.add_constant(features.astype(float).to_numpy())\n",
    "reg = sm.OLS(outcome, f)\n",
    "results = reg.fit()\n",
    "\n",
    "print(results.summary())"
   ]
  },
  {
   "cell_type": "markdown",
   "id": "d4ff8298",
   "metadata": {},
   "source": [
    "### Examine diagostic plots"
   ]
  },
  {
   "cell_type": "code",
   "execution_count": null,
   "id": "ac5086f4",
   "metadata": {},
   "outputs": [],
   "source": []
  },
  {
   "cell_type": "code",
   "execution_count": null,
   "id": "40a3ae3d",
   "metadata": {},
   "outputs": [],
   "source": []
  },
  {
   "cell_type": "code",
   "execution_count": null,
   "id": "6dcf5b5e",
   "metadata": {},
   "outputs": [],
   "source": []
  }
 ],
 "metadata": {
  "kernelspec": {
   "display_name": "product-meta-analysis",
   "language": "python",
   "name": "product-meta-analysis"
  },
  "language_info": {
   "codemirror_mode": {
    "name": "ipython",
    "version": 3
   },
   "file_extension": ".py",
   "mimetype": "text/x-python",
   "name": "python",
   "nbconvert_exporter": "python",
   "pygments_lexer": "ipython3",
   "version": "3.9.7"
  }
 },
 "nbformat": 4,
 "nbformat_minor": 5
}
