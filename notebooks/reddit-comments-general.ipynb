{
 "cells": [
  {
   "cell_type": "code",
   "execution_count": 8,
   "metadata": {
    "collapsed": true
   },
   "outputs": [],
   "source": [
    "# TODO: Move some of the functions in this notebook into package\n",
    "category = 'gluten_free_flour'"
   ]
  },
  {
   "cell_type": "code",
   "execution_count": 17,
   "metadata": {
    "collapsed": true
   },
   "outputs": [],
   "source": [
    "import re\n",
    "\n",
    "import pandas as pd\n",
    "import matplotlib.pyplot as plt\n",
    "\n",
    "from product_meta_analysis.database.database import Database\n",
    "\n",
    "\n",
    "DEFAULT_COLORS = ['#0472c2', '#1ec5d6', '#fcd251', '#c36c6c', '#eac1c1', '#c5c5c5']\n",
    "\n",
    "font = {'family' : 'Verdana',\n",
    "        'weight' : 'normal',\n",
    "        'size'   : 18}\n",
    "plt.rc('font', **font)\n"
   ]
  },
  {
   "cell_type": "markdown",
   "metadata": {},
   "source": [
    "### Get data"
   ]
  },
  {
   "cell_type": "code",
   "execution_count": 49,
   "metadata": {
    "collapsed": false
   },
   "outputs": [
    {
     "data": {
      "text/html": [
       "<div>\n",
       "<style scoped>\n",
       "    .dataframe tbody tr th:only-of-type {\n",
       "        vertical-align: middle;\n",
       "    }\n",
       "\n",
       "    .dataframe tbody tr th {\n",
       "        vertical-align: top;\n",
       "    }\n",
       "\n",
       "    .dataframe thead th {\n",
       "        text-align: right;\n",
       "    }\n",
       "</style>\n",
       "<table border=\"1\" class=\"dataframe\">\n",
       "  <thead>\n",
       "    <tr style=\"text-align: right;\">\n",
       "      <th></th>\n",
       "      <th>comment_id</th>\n",
       "      <th>upvotes</th>\n",
       "      <th>parent_id</th>\n",
       "      <th>sentence_ix</th>\n",
       "      <th>brand</th>\n",
       "      <th>annotation_id</th>\n",
       "      <th>is_top_level</th>\n",
       "      <th>parent_id_trucated</th>\n",
       "      <th>brand_count</th>\n",
       "    </tr>\n",
       "  </thead>\n",
       "  <tbody>\n",
       "    <tr>\n",
       "      <th>0</th>\n",
       "      <td>dx89ctf</td>\n",
       "      <td>8</td>\n",
       "      <td>t3_8bnn0y</td>\n",
       "      <td>0</td>\n",
       "      <td>Bob's Red Mill</td>\n",
       "      <td>dx89ctf02</td>\n",
       "      <td>1</td>\n",
       "      <td>8bnn0y</td>\n",
       "      <td>1</td>\n",
       "    </tr>\n",
       "    <tr>\n",
       "      <th>1</th>\n",
       "      <td>dx8ku69</td>\n",
       "      <td>7</td>\n",
       "      <td>t3_8bnn0y</td>\n",
       "      <td>0</td>\n",
       "      <td>Cup4cup</td>\n",
       "      <td>dx8ku6901</td>\n",
       "      <td>1</td>\n",
       "      <td>8bnn0y</td>\n",
       "      <td>1</td>\n",
       "    </tr>\n",
       "    <tr>\n",
       "      <th>2</th>\n",
       "      <td>dx8a8g5</td>\n",
       "      <td>5</td>\n",
       "      <td>t3_8bnn0y</td>\n",
       "      <td>0</td>\n",
       "      <td>King Arthur</td>\n",
       "      <td>dx8a8g500</td>\n",
       "      <td>1</td>\n",
       "      <td>8bnn0y</td>\n",
       "      <td>2</td>\n",
       "    </tr>\n",
       "    <tr>\n",
       "      <th>3</th>\n",
       "      <td>dx8a8g5</td>\n",
       "      <td>5</td>\n",
       "      <td>t3_8bnn0y</td>\n",
       "      <td>1</td>\n",
       "      <td>Bob's Red Mill</td>\n",
       "      <td>dx8a8g512</td>\n",
       "      <td>1</td>\n",
       "      <td>8bnn0y</td>\n",
       "      <td>2</td>\n",
       "    </tr>\n",
       "    <tr>\n",
       "      <th>4</th>\n",
       "      <td>dx8ex8y</td>\n",
       "      <td>5</td>\n",
       "      <td>t3_8bnn0y</td>\n",
       "      <td>3</td>\n",
       "      <td>King Arthur</td>\n",
       "      <td>dx8ex8y30</td>\n",
       "      <td>1</td>\n",
       "      <td>8bnn0y</td>\n",
       "      <td>1</td>\n",
       "    </tr>\n",
       "  </tbody>\n",
       "</table>\n",
       "</div>"
      ],
      "text/plain": [
       "  comment_id  upvotes  parent_id  sentence_ix           brand annotation_id  \\\n",
       "0    dx89ctf        8  t3_8bnn0y            0  Bob's Red Mill     dx89ctf02   \n",
       "1    dx8ku69        7  t3_8bnn0y            0         Cup4cup     dx8ku6901   \n",
       "2    dx8a8g5        5  t3_8bnn0y            0     King Arthur     dx8a8g500   \n",
       "3    dx8a8g5        5  t3_8bnn0y            1  Bob's Red Mill     dx8a8g512   \n",
       "4    dx8ex8y        5  t3_8bnn0y            3     King Arthur     dx8ex8y30   \n",
       "\n",
       "   is_top_level parent_id_trucated  brand_count  \n",
       "0             1             8bnn0y            1  \n",
       "1             1             8bnn0y            1  \n",
       "2             1             8bnn0y            2  \n",
       "3             1             8bnn0y            2  \n",
       "4             1             8bnn0y            1  "
      ]
     },
     "execution_count": 49,
     "metadata": {},
     "output_type": "execute_result"
    }
   ],
   "source": [
    "# TODO: add a read_pandas function to Database class\n",
    "db = Database()\n",
    "comments = db.read(f\"\"\"\n",
    "    select \n",
    "        c.comment_id,\n",
    "        c.upvotes,\n",
    "        c.parent_id, \n",
    "        a.sentence_ix, \n",
    "        a.brand,\n",
    "        a.annotation_id\n",
    "    from reddit_comments c \n",
    "    inner join reddit_comment_annotations a\n",
    "        on a.comment_id = c.comment_id\n",
    "    where c.category='{category}'\n",
    "    \"\"\")\n",
    "comments = pd.DataFrame(comments, columns=['comment_id', 'upvotes', 'parent_id', 'sentence_ix', 'brand', 'annotation_id'])\n",
    "db.close() \n",
    "\n",
    "# NOTE: t3_threadid are top level comments and t1_commentid are lower level comments\n",
    "comments['is_top_level'] = comments['parent_id'].map(lambda x: 1 if re.match('t3_', x) else 0)\n",
    "comments['parent_id_trucated'] = comments['parent_id'].map(lambda x: x[3:])\n",
    "brand_counts = comments \\\n",
    "    .groupby('comment_id') \\\n",
    "    .apply(lambda x: len(set(x['brand']))) \\\n",
    "    .reset_index()\\\n",
    "    .rename(columns={0:'brand_count'})\n",
    "comments = comments.merge(brand_counts, on='comment_id', how='left') \n",
    "elligible_comments = comments[\n",
    "        (comments['is_top_level'] == 1) &\n",
    "        (comments['brand_count'] <= 2)\n",
    "        ] \\\n",
    "    .drop_duplicates(subset=['comment_id', 'brand'])\n",
    "    \n",
    "elligible_comments.head(5)"
   ]
  },
  {
   "cell_type": "code",
   "execution_count": 60,
   "metadata": {
    "collapsed": false
   },
   "outputs": [
    {
     "data": {
      "text/html": [
       "<div>\n",
       "<style scoped>\n",
       "    .dataframe tbody tr th:only-of-type {\n",
       "        vertical-align: middle;\n",
       "    }\n",
       "\n",
       "    .dataframe tbody tr th {\n",
       "        vertical-align: top;\n",
       "    }\n",
       "\n",
       "    .dataframe thead th {\n",
       "        text-align: right;\n",
       "    }\n",
       "</style>\n",
       "<table border=\"1\" class=\"dataframe\">\n",
       "  <thead>\n",
       "    <tr style=\"text-align: right;\">\n",
       "      <th></th>\n",
       "      <th>Thread</th>\n",
       "      <th>Brand</th>\n",
       "      <th>Votes</th>\n",
       "    </tr>\n",
       "  </thead>\n",
       "  <tbody>\n",
       "    <tr>\n",
       "      <th>0</th>\n",
       "      <td>1rz9xu</td>\n",
       "      <td>Bob's Red Mill</td>\n",
       "      <td>1</td>\n",
       "    </tr>\n",
       "    <tr>\n",
       "      <th>1</th>\n",
       "      <td>1rz9xu</td>\n",
       "      <td>Cup4cup</td>\n",
       "      <td>3</td>\n",
       "    </tr>\n",
       "    <tr>\n",
       "      <th>2</th>\n",
       "      <td>1rz9xu</td>\n",
       "      <td>King Arthur</td>\n",
       "      <td>1</td>\n",
       "    </tr>\n",
       "    <tr>\n",
       "      <th>3</th>\n",
       "      <td>2fr0vn</td>\n",
       "      <td>Bob's Red Mill</td>\n",
       "      <td>8</td>\n",
       "    </tr>\n",
       "    <tr>\n",
       "      <th>4</th>\n",
       "      <td>2fr0vn</td>\n",
       "      <td>Cup4cup</td>\n",
       "      <td>12</td>\n",
       "    </tr>\n",
       "  </tbody>\n",
       "</table>\n",
       "</div>"
      ],
      "text/plain": [
       "   Thread           Brand  Votes\n",
       "0  1rz9xu  Bob's Red Mill      1\n",
       "1  1rz9xu         Cup4cup      3\n",
       "2  1rz9xu     King Arthur      1\n",
       "3  2fr0vn  Bob's Red Mill      8\n",
       "4  2fr0vn         Cup4cup     12"
      ]
     },
     "execution_count": 60,
     "metadata": {},
     "output_type": "execute_result"
    }
   ],
   "source": [
    "df = elligible_comments \\\n",
    "    .groupby(['parent_id_trucated', 'brand']) \\\n",
    "    .agg({'upvotes': 'sum'}) \\\n",
    "    .reset_index() \\\n",
    "    .rename(columns={\n",
    "            'parent_id_trucated': 'Thread',\n",
    "            'brand': 'Brand',\n",
    "            'upvotes': 'Votes'\n",
    "        })\n",
    "    \n",
    "df.head(5)"
   ]
  },
  {
   "cell_type": "markdown",
   "metadata": {},
   "source": [
    "### Summary stats"
   ]
  },
  {
   "cell_type": "code",
   "execution_count": 54,
   "metadata": {
    "collapsed": false
   },
   "outputs": [
    {
     "name": "stdout",
     "output_type": "stream",
     "text": [
      "Number of threads: 9\n",
      "Number of comments: 25\n",
      "Number of upvotes: 166\n",
      "Number of threads: 3\n"
     ]
    }
   ],
   "source": [
    "def print_summary_stats(df): \n",
    "    threads = df['Thread'].nunique()\n",
    "    upvotes = df['Votes'].sum()\n",
    "    comments = df['Votes'].count()\n",
    "    brands = df['Brand'].nunique()\n",
    "\n",
    "    print(f\"Number of threads: {threads}\")\n",
    "    print(f\"Number of comments: {comments}\")\n",
    "    print(f\"Number of upvotes: {upvotes}\")\n",
    "    print(f\"Number of threads: {brands}\")\n",
    "    \n",
    "print_summary_stats(df)"
   ]
  },
  {
   "cell_type": "markdown",
   "metadata": {},
   "source": [
    "### Vote summary"
   ]
  },
  {
   "cell_type": "code",
   "execution_count": 55,
   "metadata": {
    "collapsed": false
   },
   "outputs": [
    {
     "data": {
      "text/html": [
       "<div>\n",
       "<style scoped>\n",
       "    .dataframe tbody tr th:only-of-type {\n",
       "        vertical-align: middle;\n",
       "    }\n",
       "\n",
       "    .dataframe tbody tr th {\n",
       "        vertical-align: top;\n",
       "    }\n",
       "\n",
       "    .dataframe thead th {\n",
       "        text-align: right;\n",
       "    }\n",
       "</style>\n",
       "<table border=\"1\" class=\"dataframe\">\n",
       "  <thead>\n",
       "    <tr style=\"text-align: right;\">\n",
       "      <th></th>\n",
       "      <th>Brand</th>\n",
       "      <th>sum</th>\n",
       "      <th>count</th>\n",
       "      <th>mean</th>\n",
       "    </tr>\n",
       "  </thead>\n",
       "  <tbody>\n",
       "    <tr>\n",
       "      <th>0</th>\n",
       "      <td>Bob's Red Mill</td>\n",
       "      <td>77</td>\n",
       "      <td>9</td>\n",
       "      <td>8.555556</td>\n",
       "    </tr>\n",
       "    <tr>\n",
       "      <th>1</th>\n",
       "      <td>King Arthur</td>\n",
       "      <td>46</td>\n",
       "      <td>7</td>\n",
       "      <td>6.571429</td>\n",
       "    </tr>\n",
       "    <tr>\n",
       "      <th>2</th>\n",
       "      <td>Cup4cup</td>\n",
       "      <td>43</td>\n",
       "      <td>9</td>\n",
       "      <td>4.777778</td>\n",
       "    </tr>\n",
       "  </tbody>\n",
       "</table>\n",
       "</div>"
      ],
      "text/plain": [
       "            Brand  sum  count      mean\n",
       "0  Bob's Red Mill   77      9  8.555556\n",
       "1     King Arthur   46      7  6.571429\n",
       "2         Cup4cup   43      9  4.777778"
      ]
     },
     "execution_count": 55,
     "metadata": {},
     "output_type": "execute_result"
    }
   ],
   "source": [
    "def get_vote_summary(df, group_ = 'Brand', agg_ = ['sum', 'count', 'mean']): \n",
    "    group_ = 'Brand'\n",
    "    vote_summary = df \\\n",
    "        .groupby(group_) \\\n",
    "        .agg({'Votes': agg_}) \\\n",
    "        .sort_values(('Votes','sum'), ascending=False) \\\n",
    "        .reset_index()\n",
    "    vote_summary.columns = [group_] + agg_ \n",
    "\n",
    "    return vote_summary\n",
    "\n",
    "votes = get_vote_summary(df)\n",
    "votes"
   ]
  },
  {
   "cell_type": "markdown",
   "metadata": {},
   "source": [
    "### Total votes"
   ]
  },
  {
   "cell_type": "code",
   "execution_count": 56,
   "metadata": {
    "collapsed": false
   },
   "outputs": [
    {
     "data": {
      "text/html": [
       "<div>\n",
       "<style scoped>\n",
       "    .dataframe tbody tr th:only-of-type {\n",
       "        vertical-align: middle;\n",
       "    }\n",
       "\n",
       "    .dataframe tbody tr th {\n",
       "        vertical-align: top;\n",
       "    }\n",
       "\n",
       "    .dataframe thead th {\n",
       "        text-align: right;\n",
       "    }\n",
       "</style>\n",
       "<table border=\"1\" class=\"dataframe\">\n",
       "  <thead>\n",
       "    <tr style=\"text-align: right;\">\n",
       "      <th></th>\n",
       "      <th>Brand</th>\n",
       "      <th>Total Votes</th>\n",
       "      <th>Total Comments</th>\n",
       "      <th>Average Votes per Comment</th>\n",
       "    </tr>\n",
       "  </thead>\n",
       "  <tbody>\n",
       "    <tr>\n",
       "      <th>0</th>\n",
       "      <td>Bob's Red Mill</td>\n",
       "      <td>77</td>\n",
       "      <td>9</td>\n",
       "      <td>8.6</td>\n",
       "    </tr>\n",
       "    <tr>\n",
       "      <th>1</th>\n",
       "      <td>King Arthur</td>\n",
       "      <td>46</td>\n",
       "      <td>7</td>\n",
       "      <td>6.6</td>\n",
       "    </tr>\n",
       "    <tr>\n",
       "      <th>2</th>\n",
       "      <td>Cup4cup</td>\n",
       "      <td>43</td>\n",
       "      <td>9</td>\n",
       "      <td>4.8</td>\n",
       "    </tr>\n",
       "  </tbody>\n",
       "</table>\n",
       "</div>"
      ],
      "text/plain": [
       "            Brand  Total Votes  Total Comments  Average Votes per Comment\n",
       "0  Bob's Red Mill           77               9                        8.6\n",
       "1     King Arthur           46               7                        6.6\n",
       "2         Cup4cup           43               9                        4.8"
      ]
     },
     "execution_count": 56,
     "metadata": {},
     "output_type": "execute_result"
    }
   ],
   "source": [
    "votes_clean = votes.copy() \\\n",
    "    .rename(columns={\n",
    "            \"sum\": \"Total Votes\", \n",
    "            \"count\":\"Total Comments\",\n",
    "            \"mean\":\"Average Votes per Comment\"\n",
    "        }) \\\n",
    "    .round(1)\n",
    "    \n",
    "votes_clean"
   ]
  },
  {
   "cell_type": "markdown",
   "metadata": {},
   "source": [
    "### Plots"
   ]
  },
  {
   "cell_type": "code",
   "execution_count": 57,
   "metadata": {
    "collapsed": false
   },
   "outputs": [
    {
     "data": {
      "image/png": "[encoded data removed]",
      "text/plain": [
       "<Figure size 432x288 with 1 Axes>"
      ]
     },
     "metadata": {},
     "output_type": "display_data"
    }
   ],
   "source": [
    "def add_chart_title(column): \n",
    "    if column == 'sum':\n",
    "        return plt.title('Total number of votes', pad=25)\n",
    "    elif column == 'count':\n",
    "        return plt.title('Total number of comments', pad=25)\n",
    "\n",
    "def bin_long_tail(df, count_threshold, column): \n",
    "    df_ = df.copy()\n",
    "    above_threshold = df_[df_['count'] >= count_threshold]\n",
    "    below_threshold = df_[df_['count'] < count_threshold]\n",
    "    binned = pd.concat([\n",
    "            above_threshold[['Brand', column]],\n",
    "            pd.DataFrame(\n",
    "                [['Other', int(below_threshold[column].sum())]],\n",
    "                columns=['Brand', column]\n",
    "                )\n",
    "        ])\n",
    "    return binned\n",
    "\n",
    "def create_pie_chart(df, count_threshold = 3, column='sum'):\n",
    "    votes_binned = bin_long_tail(df, count_threshold, column)\n",
    "    n = len(votes_binned)\n",
    "\n",
    "    fig, ax = plt.subplots()\n",
    "    ax.pie(\n",
    "        votes_binned[column], \n",
    "        labels=votes_binned['Brand'], \n",
    "        colors=DEFAULT_COLORS[0:n], \n",
    "        startangle=90,\n",
    "        labeldistance=1.2,\n",
    "        pctdistance=0.7,\n",
    "        wedgeprops = {\"edgecolor\":\"k\",'linewidth': 2, 'linestyle': 'solid', 'antialiased': True}\n",
    "        )\n",
    "    ax.axis('equal')  \n",
    "    add_chart_title(column)\n",
    "        \n",
    "    plt.show()\n",
    "\n",
    "create_pie_chart(votes)"
   ]
  },
  {
   "cell_type": "code",
   "execution_count": 58,
   "metadata": {
    "collapsed": false
   },
   "outputs": [
    {
     "data": {
      "image/png": "[encoded data removed]",
      "text/plain": [
       "<Figure size 432x288 with 1 Axes>"
      ]
     },
     "metadata": {},
     "output_type": "display_data"
    }
   ],
   "source": [
    "create_pie_chart(votes, column='count')"
   ]
  },
  {
   "cell_type": "code",
   "execution_count": 59,
   "metadata": {
    "collapsed": false
   },
   "outputs": [
    {
     "data": {
      "image/png": "[encoded data removed]",
      "text/plain": [
       "<Figure size 432x288 with 1 Axes>"
      ]
     },
     "metadata": {
      "needs_background": "light"
     },
     "output_type": "display_data"
    }
   ],
   "source": [
    "def create_bar_chart(df, count_threshold = 3, column='sum'):\n",
    "    votes_binned = bin_long_tail(df, count_threshold, column)\n",
    "    n = len(votes_binned)\n",
    "\n",
    "    fig, ax = plt.subplots()\n",
    "    ax.barh(\n",
    "        votes_binned['Brand'],\n",
    "        votes_binned[column],  \n",
    "        color=DEFAULT_COLORS[0:n], \n",
    "        )\n",
    "    ax.invert_yaxis()\n",
    "    add_chart_title(column)\n",
    "\n",
    "        \n",
    "    plt.show()\n",
    "\n",
    "create_bar_chart(votes)"
   ]
  },
  {
   "cell_type": "code",
   "execution_count": null,
   "metadata": {
    "collapsed": true
   },
   "outputs": [],
   "source": []
  },
  {
   "cell_type": "code",
   "execution_count": null,
   "metadata": {
    "collapsed": true
   },
   "outputs": [],
   "source": []
  },
  {
   "cell_type": "code",
   "execution_count": null,
   "metadata": {
    "collapsed": true
   },
   "outputs": [],
   "source": []
  },
  {
   "cell_type": "code",
   "execution_count": null,
   "metadata": {
    "collapsed": true
   },
   "outputs": [],
   "source": []
  },
  {
   "cell_type": "code",
   "execution_count": null,
   "metadata": {
    "collapsed": true
   },
   "outputs": [],
   "source": []
  },
  {
   "cell_type": "code",
   "execution_count": null,
   "metadata": {
    "collapsed": true
   },
   "outputs": [],
   "source": []
  },
  {
   "cell_type": "code",
   "execution_count": null,
   "metadata": {
    "collapsed": true
   },
   "outputs": [],
   "source": []
  },
  {
   "cell_type": "code",
   "execution_count": null,
   "metadata": {
    "collapsed": true
   },
   "outputs": [],
   "source": []
  },
  {
   "cell_type": "code",
   "execution_count": null,
   "metadata": {
    "collapsed": true
   },
   "outputs": [],
   "source": []
  }
 ],
 "metadata": {
  "anaconda-cloud": {},
  "kernelspec": {
   "display_name": "Python [conda env:product-meta-analysis]",
   "language": "python",
   "name": "conda-env-product-meta-analysis-py"
  },
  "language_info": {
   "codemirror_mode": {
    "name": "ipython",
    "version": 3
   },
   "file_extension": ".py",
   "mimetype": "text/x-python",
   "name": "python",
   "nbconvert_exporter": "python",
   "pygments_lexer": "ipython3",
   "version": "3.9.5"
  }
 },
 "nbformat": 4,
 "nbformat_minor": 4
}
