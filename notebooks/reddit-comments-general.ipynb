{
 "cells": [
  {
   "cell_type": "code",
   "execution_count": 1,
   "metadata": {
    "collapsed": true
   },
   "outputs": [],
   "source": [
    "category = 'gluten_free_flour'"
   ]
  },
  {
   "cell_type": "code",
   "execution_count": 2,
   "metadata": {
    "collapsed": false
   },
   "outputs": [],
   "source": [
    "import pandas as pd\n",
    "import matplotlib.pyplot as plt\n",
    "\n",
    "from product_meta_analysis.database.database import Database\n",
    "from product_meta_analysis.aggregate import reddit as r\n",
    "from product_meta_analysis.analyze import basic_plots as p\n",
    "\n"
   ]
  },
  {
   "cell_type": "markdown",
   "metadata": {},
   "source": [
    "### Get data"
   ]
  },
  {
   "cell_type": "code",
   "execution_count": 3,
   "metadata": {
    "collapsed": false
   },
   "outputs": [
    {
     "data": {
      "text/html": [
       "<div>\n",
       "<style scoped>\n",
       "    .dataframe tbody tr th:only-of-type {\n",
       "        vertical-align: middle;\n",
       "    }\n",
       "\n",
       "    .dataframe tbody tr th {\n",
       "        vertical-align: top;\n",
       "    }\n",
       "\n",
       "    .dataframe thead th {\n",
       "        text-align: right;\n",
       "    }\n",
       "</style>\n",
       "<table border=\"1\" class=\"dataframe\">\n",
       "  <thead>\n",
       "    <tr style=\"text-align: right;\">\n",
       "      <th></th>\n",
       "      <th>comment_id</th>\n",
       "      <th>upvotes</th>\n",
       "      <th>parent_id</th>\n",
       "      <th>sentence_ix</th>\n",
       "      <th>brand</th>\n",
       "      <th>annotation_id</th>\n",
       "      <th>brand_count</th>\n",
       "      <th>parent_name</th>\n",
       "      <th>parent_type</th>\n",
       "    </tr>\n",
       "  </thead>\n",
       "  <tbody>\n",
       "    <tr>\n",
       "      <th>0</th>\n",
       "      <td>dx89ctf</td>\n",
       "      <td>8</td>\n",
       "      <td>t3_8bnn0y</td>\n",
       "      <td>0</td>\n",
       "      <td>Bob's Red Mill</td>\n",
       "      <td>dx89ctf02</td>\n",
       "      <td>1</td>\n",
       "      <td>8bnn0y</td>\n",
       "      <td>t3</td>\n",
       "    </tr>\n",
       "    <tr>\n",
       "      <th>1</th>\n",
       "      <td>dx8ku69</td>\n",
       "      <td>7</td>\n",
       "      <td>t3_8bnn0y</td>\n",
       "      <td>0</td>\n",
       "      <td>Cup4cup</td>\n",
       "      <td>dx8ku6901</td>\n",
       "      <td>1</td>\n",
       "      <td>8bnn0y</td>\n",
       "      <td>t3</td>\n",
       "    </tr>\n",
       "    <tr>\n",
       "      <th>2</th>\n",
       "      <td>dx8a8g5</td>\n",
       "      <td>5</td>\n",
       "      <td>t3_8bnn0y</td>\n",
       "      <td>0</td>\n",
       "      <td>King Arthur</td>\n",
       "      <td>dx8a8g500</td>\n",
       "      <td>2</td>\n",
       "      <td>8bnn0y</td>\n",
       "      <td>t3</td>\n",
       "    </tr>\n",
       "    <tr>\n",
       "      <th>3</th>\n",
       "      <td>dx8a8g5</td>\n",
       "      <td>5</td>\n",
       "      <td>t3_8bnn0y</td>\n",
       "      <td>1</td>\n",
       "      <td>Bob's Red Mill</td>\n",
       "      <td>dx8a8g512</td>\n",
       "      <td>2</td>\n",
       "      <td>8bnn0y</td>\n",
       "      <td>t3</td>\n",
       "    </tr>\n",
       "    <tr>\n",
       "      <th>4</th>\n",
       "      <td>dx8ex8y</td>\n",
       "      <td>5</td>\n",
       "      <td>t3_8bnn0y</td>\n",
       "      <td>3</td>\n",
       "      <td>King Arthur</td>\n",
       "      <td>dx8ex8y30</td>\n",
       "      <td>1</td>\n",
       "      <td>8bnn0y</td>\n",
       "      <td>t3</td>\n",
       "    </tr>\n",
       "  </tbody>\n",
       "</table>\n",
       "</div>"
      ],
      "text/plain": [
       "  comment_id  upvotes  parent_id  sentence_ix           brand annotation_id  \\\n",
       "0    dx89ctf        8  t3_8bnn0y            0  Bob's Red Mill     dx89ctf02   \n",
       "1    dx8ku69        7  t3_8bnn0y            0         Cup4cup     dx8ku6901   \n",
       "2    dx8a8g5        5  t3_8bnn0y            0     King Arthur     dx8a8g500   \n",
       "3    dx8a8g5        5  t3_8bnn0y            1  Bob's Red Mill     dx8a8g512   \n",
       "4    dx8ex8y        5  t3_8bnn0y            3     King Arthur     dx8ex8y30   \n",
       "\n",
       "   brand_count parent_name parent_type  \n",
       "0            1      8bnn0y          t3  \n",
       "1            1      8bnn0y          t3  \n",
       "2            2      8bnn0y          t3  \n",
       "3            2      8bnn0y          t3  \n",
       "4            1      8bnn0y          t3  "
      ]
     },
     "execution_count": 3,
     "metadata": {},
     "output_type": "execute_result"
    }
   ],
   "source": [
    "# TODO: add a read_pandas function to Database class\n",
    "db = Database()\n",
    "comments = db.read(f\"\"\"\n",
    "    select \n",
    "        c.comment_id,\n",
    "        c.upvotes,\n",
    "        c.parent_id, \n",
    "        a.sentence_ix, \n",
    "        a.brand,\n",
    "        a.annotation_id\n",
    "    from reddit_comments c \n",
    "    inner join reddit_comment_annotations a\n",
    "        on a.comment_id = c.comment_id\n",
    "    where c.category='{category}'\n",
    "    \"\"\")\n",
    "comments = pd.DataFrame(comments, columns=['comment_id', 'upvotes', 'parent_id', 'sentence_ix', 'brand', 'annotation_id'])\n",
    "db.close() \n",
    "\n",
    "\n",
    "elligible_comments = r.get_eligible_top_level_comments(comments)\n",
    "    \n",
    "elligible_comments.head(5)"
   ]
  },
  {
   "cell_type": "markdown",
   "metadata": {},
   "source": [
    "### Summary across brands"
   ]
  },
  {
   "cell_type": "code",
   "execution_count": 4,
   "metadata": {
    "collapsed": false
   },
   "outputs": [
    {
     "data": {
      "text/plain": [
       "{'posts': 9, 'comments': 40, 'upvotes': 140, 'brands': 3}"
      ]
     },
     "execution_count": 4,
     "metadata": {},
     "output_type": "execute_result"
    }
   ],
   "source": [
    "summary = r.get_summary_stats(elligible_comments)\n",
    "summary"
   ]
  },
  {
   "cell_type": "markdown",
   "metadata": {},
   "source": [
    "### Summary by brand"
   ]
  },
  {
   "cell_type": "code",
   "execution_count": 5,
   "metadata": {
    "collapsed": false
   },
   "outputs": [
    {
     "data": {
      "text/html": [
       "<div>\n",
       "<style scoped>\n",
       "    .dataframe tbody tr th:only-of-type {\n",
       "        vertical-align: middle;\n",
       "    }\n",
       "\n",
       "    .dataframe tbody tr th {\n",
       "        vertical-align: top;\n",
       "    }\n",
       "\n",
       "    .dataframe thead th {\n",
       "        text-align: right;\n",
       "    }\n",
       "</style>\n",
       "<table border=\"1\" class=\"dataframe\">\n",
       "  <thead>\n",
       "    <tr style=\"text-align: right;\">\n",
       "      <th></th>\n",
       "      <th>Brand</th>\n",
       "      <th>Total Votes</th>\n",
       "      <th>Total Comments</th>\n",
       "      <th>Average Votes per Comment</th>\n",
       "    </tr>\n",
       "  </thead>\n",
       "  <tbody>\n",
       "    <tr>\n",
       "      <th>0</th>\n",
       "      <td>Bob's Red Mill</td>\n",
       "      <td>77</td>\n",
       "      <td>23</td>\n",
       "      <td>3.3</td>\n",
       "    </tr>\n",
       "    <tr>\n",
       "      <th>1</th>\n",
       "      <td>King Arthur</td>\n",
       "      <td>46</td>\n",
       "      <td>12</td>\n",
       "      <td>3.8</td>\n",
       "    </tr>\n",
       "    <tr>\n",
       "      <th>2</th>\n",
       "      <td>Cup4cup</td>\n",
       "      <td>43</td>\n",
       "      <td>11</td>\n",
       "      <td>3.9</td>\n",
       "    </tr>\n",
       "  </tbody>\n",
       "</table>\n",
       "</div>"
      ],
      "text/plain": [
       "            Brand  Total Votes  Total Comments  Average Votes per Comment\n",
       "0  Bob's Red Mill           77              23                        3.3\n",
       "1     King Arthur           46              12                        3.8\n",
       "2         Cup4cup           43              11                        3.9"
      ]
     },
     "execution_count": 5,
     "metadata": {},
     "output_type": "execute_result"
    }
   ],
   "source": [
    "brand_summary = r.get_brand_summary(elligible_comments)\n",
    "brand_summary"
   ]
  },
  {
   "cell_type": "markdown",
   "metadata": {},
   "source": [
    "### Plots"
   ]
  },
  {
   "cell_type": "code",
   "execution_count": 6,
   "metadata": {
    "collapsed": false
   },
   "outputs": [
    {
     "data": {
      "image/png": "[encoded data removed]",
      "text/plain": [
       "<Figure size 432x288 with 1 Axes>"
      ]
     },
     "metadata": {},
     "output_type": "display_data"
    }
   ],
   "source": [
    "p.create_pie_chart(brand_summary)"
   ]
  },
  {
   "cell_type": "code",
   "execution_count": 7,
   "metadata": {
    "collapsed": false
   },
   "outputs": [
    {
     "data": {
      "image/png": "[encoded data removed]",
      "text/plain": [
       "<Figure size 432x288 with 1 Axes>"
      ]
     },
     "metadata": {},
     "output_type": "display_data"
    }
   ],
   "source": [
    "p.create_pie_chart(brand_summary, column='Total Comments')"
   ]
  },
  {
   "cell_type": "code",
   "execution_count": 8,
   "metadata": {
    "collapsed": false
   },
   "outputs": [
    {
     "data": {
      "image/png": "[encoded data removed]",
      "text/plain": [
       "<Figure size 432x288 with 1 Axes>"
      ]
     },
     "metadata": {
      "needs_background": "light"
     },
     "output_type": "display_data"
    }
   ],
   "source": [
    "p.create_bar_chart(brand_summary)"
   ]
  },
  {
   "cell_type": "code",
   "execution_count": null,
   "metadata": {
    "collapsed": true
   },
   "outputs": [],
   "source": []
  },
  {
   "cell_type": "code",
   "execution_count": null,
   "metadata": {
    "collapsed": true
   },
   "outputs": [],
   "source": []
  },
  {
   "cell_type": "code",
   "execution_count": null,
   "metadata": {
    "collapsed": true
   },
   "outputs": [],
   "source": []
  },
  {
   "cell_type": "code",
   "execution_count": null,
   "metadata": {
    "collapsed": true
   },
   "outputs": [],
   "source": []
  },
  {
   "cell_type": "code",
   "execution_count": null,
   "metadata": {
    "collapsed": true
   },
   "outputs": [],
   "source": []
  },
  {
   "cell_type": "code",
   "execution_count": null,
   "metadata": {
    "collapsed": true
   },
   "outputs": [],
   "source": []
  },
  {
   "cell_type": "code",
   "execution_count": null,
   "metadata": {
    "collapsed": true
   },
   "outputs": [],
   "source": []
  },
  {
   "cell_type": "code",
   "execution_count": null,
   "metadata": {
    "collapsed": true
   },
   "outputs": [],
   "source": []
  },
  {
   "cell_type": "code",
   "execution_count": null,
   "metadata": {
    "collapsed": true
   },
   "outputs": [],
   "source": []
  }
 ],
 "metadata": {
  "anaconda-cloud": {},
  "kernelspec": {
   "display_name": "Python [conda env:product-meta-analysis]",
   "language": "python",
   "name": "conda-env-product-meta-analysis-py"
  },
  "language_info": {
   "codemirror_mode": {
    "name": "ipython",
    "version": 3
   },
   "file_extension": ".py",
   "mimetype": "text/x-python",
   "name": "python",
   "nbconvert_exporter": "python",
   "pygments_lexer": "ipython3",
   "version": "3.9.5"
  }
 },
 "nbformat": 4,
 "nbformat_minor": 4
}
